{
 "cells": [
  {
   "cell_type": "markdown",
   "metadata": {},
   "source": [
    "Peter Meleney  \n",
    "11/7/2019  \n",
    "DATA 512  \n",
    "Human Centered Data Science"
   ]
  },
  {
   "cell_type": "markdown",
   "metadata": {},
   "source": [
    "## Project Proposal"
   ]
  },
  {
   "cell_type": "markdown",
   "metadata": {},
   "source": [
    "An Introduction to Statistical Learning (ISLR) by Gareth James, Daniela Witten, Trevor Hastie, and Robert Tibshirani [1] is one of the most-recommended introductory texts to data science in the United States [2].   The book is a very accessible, if somewhat brief, introduction to data science theory and applications.  Applications mostly come in the form of lab sections at the end of chapters written in the R language.  I intend to translate these sections from R into Python in the form of jupyter notebooks written in the literate programming style that we learned in assignments 1 and 2 of this course.  This work will be placed in a public GitHub repository and anyone will be allowed to view, clone, or download the data as they wish.\n",
    "\n",
    "Versions of this project have been completed before.  JWarmenhoven/ISLR-python (https://github.com/JWarmenhoven/ISLR-python) is currently the most popular such repository on GitHub with 1.4k forks.  However, while her (or his) code is written clearly, is not sufficiently commented to be considered literate.  I intend to recreate JWarmenhoven’s work implementing literate programming best practices.  \n",
    "\n",
    "There are 10 chapters in ISLR, eight of which include lab sections I intend to translate.  They are:\n",
    "\n",
    "-\tChapter 3: Linear Regression\n",
    "-\tChapter 4: Logistic Regression, LDA, QDA, and KNN\n",
    "-\tChapter 5: Cross Validation and the Bootstrap\n",
    "-\tChapter 6: Subset Selection Methods \n",
    "-\tChapter 6: Ridge Regression and the Lasso\n",
    "-\tChapter 7: Non-linear Modeling\n",
    "-\tChapter 8: Decision Trees\n",
    "-\tChapter 9: Support Vector Machines\n",
    "-\tChapter 10: Principal Components Analysis\n",
    "-\tChapter 10: Clustering\n",
    "-\tChapter 10: NC160 Data Example\n",
    "\n",
    "The data for all labs, with the exception of the “Boston” dataset, are available through the book’s website located at www.statlearning.com and are made available through the GPL-2 license.  The “Boston” dataset is used widely as a benchmark throughout data science and computer science, and is made available through the University of Toronto Computer Science Department at https://www.cs.toronto.edu/~delve/data/boston/bostonDetail.html.  The data were originally collected by the U.S. Census Service, and so are in the public domain. \n",
    "\n",
    "The datasets and their descriptions are available on page 14 of ISLR:\n",
    "\n",
    " - **Auto** - Gas mileage, horsepower, and other information for cars.  \n",
    " - **Boston** -\t    Housing values and other information about Boston suburbs.  \n",
    " - **Caravan** -\t    Information about individuals offered caravan insurance.  \n",
    " - **Carseats** -\tInformation about car set sales in 400 stores.  \n",
    " - **College** -\t    Demographic characteristics, tuition, and more for USA colleges.  \n",
    " - **Default** -\t    Customer default records for a credit card company.  \n",
    " - **Hitters** -\t    Records and salaries for baseball players.  \n",
    " - **Khan** -\t    Gene expression measurements for four cancer types.  \n",
    " - **NC160** -\t    Gene expression measurements for 64 cancer cell lines.  \n",
    " - **OJ** -\t        Sales information for Citrus Hill and Minute Maid orange juice.  \n",
    " - **Portfolio** -\tPast values of financial assets, for use in portfolio allocation.  \n",
    " - **Smarker** -\t    Daily percentage returns for S&P 500 over a 5-year period.  \n",
    " - **USArrests** -\tCrime statistics per 100,000 residents in 50 states of USA.  \n",
    " - **Wage** -\t    Income survey data for males in central Atlantic region of USA.  \n",
    " - **Weekly** -\t    1,089 weekly stock market returns for 21 years.  \n",
    "\n",
    "Completing this project will be an excellent opportunity for me to return to an introductory book which I love to re-read and will allow me to create a potentially very popular repository to include in my portfolio.  There is a lot of work to do, so I will need to complete approximately 2 laboratory sections per week until the end of the semester to reach this goal.  If you think that this is not possible, or it becomes clear that I will not be able to finish by the end of the semester, then it might be prudent to select a subsection of chapters to complete beforehand.\n"
   ]
  },
  {
   "cell_type": "markdown",
   "metadata": {},
   "source": [
    "### References"
   ]
  },
  {
   "cell_type": "markdown",
   "metadata": {},
   "source": [
    "[1] James, Gareth et al. An Introduction to Statistical Learning. Springer Texts in Staticstics, New York, NY 2015.  \n",
    "\n",
    "[2] Martin, Brendan. LearnDataSci. Most Recommended Data Science and Machine Learning Books by Top Master’s Programs.  © 2019, Accessed November 4, 2019. https://www.learndatasci.com/articles/data-science-machine-learning-books-masters/\n"
   ]
  },
  {
   "cell_type": "code",
   "execution_count": null,
   "metadata": {},
   "outputs": [],
   "source": []
  }
 ],
 "metadata": {
  "kernelspec": {
   "display_name": "Python 3",
   "language": "python",
   "name": "python3"
  },
  "language_info": {
   "codemirror_mode": {
    "name": "ipython",
    "version": 3
   },
   "file_extension": ".py",
   "mimetype": "text/x-python",
   "name": "python",
   "nbconvert_exporter": "python",
   "pygments_lexer": "ipython3",
   "version": "3.7.1"
  }
 },
 "nbformat": 4,
 "nbformat_minor": 2
}
