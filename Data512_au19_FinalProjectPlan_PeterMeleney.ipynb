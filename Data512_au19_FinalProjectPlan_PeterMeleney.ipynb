{
 "cells": [
  {
   "attachments": {},
   "cell_type": "markdown",
   "metadata": {},
   "source": [
    "Peter Meleney  \n",
    "11/14/19  \n",
    "Data 512  \n",
    "Human Centered Data Science  \n",
    "\n",
    "\n",
    "## Final Project Plan"
   ]
  },
  {
   "attachments": {},
   "cell_type": "markdown",
   "metadata": {},
   "source": [
    "### Introduction\n",
    "An Introduction to Statistical Learning with Applications in R (ISLR) by Gareth James, Daniela Witten, Trevor Hastie, and Robert Tibshirani[1]  is one of the most-recommended introductory texts to data science in the United States.[2]   The book is a very accessible, if somewhat brief, introduction to data science theory and applications.  However, the applications mostly come in the form of lab sections at the end of chapters written in the R language.  I intend to translate these sections from R into Python in the form of jupyter notebooks written in the literate programming style that we learned in assignments 1 and 2 of this course.  This work will be placed in a public GitHub repository and anyone will be allowed to view, clone, or download the data as they wish.\n",
    "\n",
    "Versions of this project have been completed before.  JWarmenhoven/ISLR-python (https://github.com/JWarmenhoven/ISLR-python) is currently the most popular such repository on GitHub with 1.4k forks.  However, while her (or his) code is written clearly, is not sufficiently commented to be considered literate.  I intend to recreate JWarmenhoven’s work implementing literate programming best practices.  \n",
    "\n",
    "For this project I intend to write labs for 4 chapters:\n",
    "\n",
    "-\tChapter 3: Linear Regression\n",
    "-\tChapter 4: Logistic Regression, LDA, QDA, and KNN\n",
    "-\tChapter 6: Ridge Regression and the Lasso\n",
    "-\tChapter 9: Support Vector Machines"
   ]
  },
  {
   "attachments": {},
   "cell_type": "markdown",
   "metadata": {},
   "source": [
    "### Background and Motivation\n",
    "\n",
    "Python is an interpreted programming language created by Guido van Rossum and first released in 1991.[3]   A survey conducted by Kaggle in 2018 found that Python is the most commonly used programming language by data scientists.[4]   This is not surprising because Python has extensive associated machine learning libraries,[5]  is in active development,[6]  and was designed to be easy to read and learn.[7]   These reasons notwithstanding, R has remained an extremely popular programming tool among academics and statisticians worldwide.[8]  This has led to a disconnect where many statistical papers and books, written by academic statisticians, have examples written in R when Python is preferred by most practitioners.  It is this disconnect that has motivated me to translate the labs in this textbook into the python language."
   ]
  },
  {
   "attachments": {},
   "cell_type": "markdown",
   "metadata": {},
   "source": [
    "### Data\n",
    "\n",
    "The data for all labs, with the exception of the “Boston” dataset, is available through the book’s website located at www.statlearning.com and is made available through the GPL-2 license.  The “Boston” dataset is used widely as a benchmark throughout data science and computer science, and is made available through the University of Toronto Computer Science Department at https://www.cs.toronto.edu/~delve/data/boston/bostonDetail.html.  The data was originally collected by the U.S. Census Service, and so is in the public domain.[9]\n",
    "\n",
    "The datasets and their descriptions are available on page 14 of ISLR:\n",
    "\n",
    " - **Auto** - Gas mileage, horsepower, and other information for cars.  \n",
    " - **Boston** -\t    Housing values and other information about Boston suburbs.  \n",
    " - **Caravan** -\t    Information about individuals offered caravan insurance.  \n",
    " - **Carseats** -\tInformation about car set sales in 400 stores.  \n",
    " - **College** -\t    Demographic characteristics, tuition, and more for USA colleges.  \n",
    " - **Default** -\t    Customer default records for a credit card company.  \n",
    " - **Hitters** -\t    Records and salaries for baseball players.  \n",
    " - **Khan** -\t    Gene expression measurements for four cancer types.  \n",
    " - **NC160** -\t    Gene expression measurements for 64 cancer cell lines.  \n",
    " - **OJ** -\t        Sales information for Citrus Hill and Minute Maid orange juice.  \n",
    " - **Portfolio** -\tPast values of financial assets, for use in portfolio allocation.  \n",
    " - **Smarker** -\t    Daily percentage returns for S&P 500 over a 5-year period.  \n",
    " - **USArrests** -\tCrime statistics per 100,000 residents in 50 states of USA.  \n",
    " - **Wage** -\t    Income survey data for males in central Atlantic region of USA.  \n",
    " - **Weekly** -\t    1,089 weekly stock market returns for 21 years.  "
   ]
  },
  {
   "cell_type": "markdown",
   "metadata": {},
   "source": [
    "### Methodology\n",
    "\n",
    "There are many ways to complete this project.  The code written in ISLR and in the github repository JWarmenhoven/ISLR-python is written in the scripting style.  While this is easy to read and interpret, I believe that a better implementation would be to write the code in following the Google Python Style Guide.[10]   Python is used extensively at Google,[11]  and they have presumably thought deeply about the best practices when using this language.  I believe there is benefit in exposing learners to the kind of code they can expect to see used in real-world situations, and so I intend to write code in the object-oriented style that they will likely encounter while working.\n",
    "\n",
    "Completing this project will be an excellent opportunity for me to return to an introductory book which I love to re-read and will allow me to create a potentially very popular repository to include in my portfolio.  There is a lot of work to do, so I will need to complete approximately 2 laboratory sections per week until the end of the semester to reach this goal.  If you think that this is not possible, or it becomes clear that I will not be able to finish by the end of the semester, then it might be prudent to select a subsection of chapters to complete beforehand.\n"
   ]
  },
  {
   "attachments": {},
   "cell_type": "markdown",
   "metadata": {},
   "source": [
    "### References\n",
    "\n",
    "[1] James, Gareth et al. An Introduction to Statistical Learning. Springer Texts in Staticstics, New York, NY 2015.\n",
    "\n",
    "[2] Martin, Brendan. LearnDataSci. Most Recommended Data Science and Machine Learning Books by Top Master’s Programs.  © 2019, Accessed November 4, 2019. https://www.learndatasci.com/articles/data-science-machine-learning-books-masters/\n",
    "\n",
    "[3] Wikipedia.org Python (programming language) Accessed November 14, 2019. https://en.wikipedia.org/wiki/Python_(programming_language)\n",
    "\n",
    "[4] Hayes, Bob. January 13, 2019.  Business Broadway. Programming Languages most used and Recommended by Data Scientists. Accessed November 14, 2019. https://businessoverbroadway.com/2019/01/13/programming-languages-most-used-and-recommended-by-data-scientists/\n",
    "\n",
    "[5] Rahul Roy, Geeks for Geeks, accessed November 14, 2019. https://www.geeksforgeeks.org/best-python-libraries-for-machine-learning/ \n",
    "\n",
    "[6] Python 3.8.0 Release Date October 14, 2019. https://www.python.org/downloads/release/python-380/\n",
    "\n",
    "[7] Wikipedia.org Python (programming language) Accessed November 14, 2019. https://en.wikipedia.org/wiki/Python_(programming_language)\n",
    "\n",
    "[8] Newgenapps. 6 Reasons: Why choose R Programming for Data Science Projects.  September 18, 2017.  Accessed Novermber 14, 2019. https://www.newgenapps.com/blog/6-reasons-why-choose-r-programming-for-data-science-projects\n",
    "\n",
    "[9] Delve.  CS Toronto.  The Boston Housing Dataset.  Last Updated 10 October 1996.  Accessed November 4, 2019.  https://www.cs.toronto.edu/~delve/data/boston/bostonDetail.html\n",
    "\n",
    "[10] Google Python Style Guide. Accessed November 14, 2019.  http://google.github.io/styleguide/pyguide.html\n",
    "\n",
    "[11] Google Python Stule Guide."
   ]
  },
  {
   "cell_type": "code",
   "execution_count": null,
   "metadata": {},
   "outputs": [],
   "source": []
  }
 ],
 "metadata": {
  "kernelspec": {
   "display_name": "Python 3",
   "language": "python",
   "name": "python3"
  },
  "language_info": {
   "codemirror_mode": {
    "name": "ipython",
    "version": 3
   },
   "file_extension": ".py",
   "mimetype": "text/x-python",
   "name": "python",
   "nbconvert_exporter": "python",
   "pygments_lexer": "ipython3",
   "version": "3.7.4"
  }
 },
 "nbformat": 4,
 "nbformat_minor": 2
}
